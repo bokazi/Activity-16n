{
 "cells": [
  {
   "cell_type": "code",
   "execution_count": 2,
   "id": "6abd4193-1f83-488c-9895-6a1e424899c1",
   "metadata": {},
   "outputs": [
    {
     "name": "stdout",
     "output_type": "stream",
     "text": [
      "Dijkstra's algorithm: Shortest distance from DBN to JHB is 279\n",
      "Bellman-Ford algorithm: Shortest distance from DBN to JHB is 279\n"
     ]
    }
   ],
   "source": [
    "import heapq\n",
    "\n",
    "def dijkstra(graph, start):\n",
    "    pq = [(0, start)]\n",
    "    distances = {node: float('infinity') for node in graph}\n",
    "    distances[start] = 0\n",
    "    while pq:\n",
    "        current_distance, current_node = heapq.heappop(pq)\n",
    "        if current_distance > distances[current_node]:\n",
    "            continue\n",
    "        for neighbor, weight in graph[current_node]:\n",
    "            distance = current_distance + weight\n",
    "            if distance < distances[neighbor]:\n",
    "                distances[neighbor] = distance\n",
    "                heapq.heappush(pq, (distance, neighbor))\n",
    "    return distances\n",
    "\n",
    "\n",
    "def bellman_ford(graph, start):\n",
    "    distances = {node: float('infinity') for node in graph}\n",
    "    distances[start] = 0\n",
    "    for _ in range(len(graph) - 1):\n",
    "        for node in graph:\n",
    "            for neighbor, weight in graph[node]:\n",
    "                if distances[node] + weight < distances[neighbor]:\n",
    "                    distances[neighbor] = distances[node] + weight\n",
    "    for node in graph:\n",
    "        for neighbor, weight in graph[node]:\n",
    "            if distances[node] + weight < distances[neighbor]:\n",
    "                raise ValueError(\"Graph contains a negative weight cycle\")\n",
    "    return distances\n",
    "\n",
    "graph = {\n",
    "    'DBN': [('JHB', 300), ('PMB', 29)],\n",
    "    'PMB': [('JHB', 250)],\n",
    "    'JHB': [('CT', 800)],\n",
    "    'CT': []\n",
    "}\n",
    "\n",
    "start_node = 'DBN'\n",
    "end_node = 'JHB'\n",
    "\n",
    "dijkstra_distances = dijkstra(graph, start_node)\n",
    "print(f\"Dijkstra's algorithm: Shortest distance from {start_node} to {end_node} is {dijkstra_distances[end_node]}\")\n",
    "\n",
    "bellman_ford_distances = bellman_ford(graph, start_node)\n",
    "print(f\"Bellman-Ford algorithm: Shortest distance from {start_node} to {end_node} is {bellman_ford_distances[end_node]}\")\n"
   ]
  },
  {
   "cell_type": "code",
   "execution_count": null,
   "id": "f23ccbc7-8b1d-45a0-baef-e5c1bea98882",
   "metadata": {},
   "outputs": [],
   "source": []
  }
 ],
 "metadata": {
  "kernelspec": {
   "display_name": "Python 3 (ipykernel)",
   "language": "python",
   "name": "python3"
  },
  "language_info": {
   "codemirror_mode": {
    "name": "ipython",
    "version": 3
   },
   "file_extension": ".py",
   "mimetype": "text/x-python",
   "name": "python",
   "nbconvert_exporter": "python",
   "pygments_lexer": "ipython3",
   "version": "3.11.7"
  }
 },
 "nbformat": 4,
 "nbformat_minor": 5
}
